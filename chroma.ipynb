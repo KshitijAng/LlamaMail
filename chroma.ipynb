{
 "cells": [
  {
   "cell_type": "code",
   "execution_count": 1,
   "id": "349dbfac-6a17-4909-8ee8-2c9d5fba1c4f",
   "metadata": {},
   "outputs": [],
   "source": [
    "!pip install -qU -r requirements.txt"
   ]
  },
  {
   "cell_type": "code",
   "execution_count": 3,
   "id": "e4da912e-6feb-484c-b371-2dded2b5f75d",
   "metadata": {},
   "outputs": [],
   "source": [
    "import chromadb\n",
    "\n",
    "client = chromadb.Client()\n",
    "collection = client.create_collection(name=\"my_collection1\")\n",
    "# collection = client.get_collection(name=\"my_collection1\")"
   ]
  },
  {
   "cell_type": "code",
   "execution_count": 4,
   "id": "82652eeb-d289-45f3-a667-44d0a59b9b96",
   "metadata": {},
   "outputs": [
    {
     "name": "stderr",
     "output_type": "stream",
     "text": [
      "Delete of nonexisting embedding ID: ids1\n",
      "Delete of nonexisting embedding ID: ids2\n",
      "Delete of nonexisting embedding ID: ids1\n",
      "Delete of nonexisting embedding ID: ids2\n"
     ]
    }
   ],
   "source": [
    "collection.delete(ids=['ids1', 'ids2'])"
   ]
  },
  {
   "cell_type": "code",
   "execution_count": 7,
   "id": "b9c1c6b7-dc2e-401b-a38a-bffd0139ef15",
   "metadata": {},
   "outputs": [
    {
     "name": "stderr",
     "output_type": "stream",
     "text": [
      "/Users/kshitija/.cache/chroma/onnx_models/all-MiniLM-L6-v2/onnx.tar.gz: 100%|█| 79.3M/79.3M [02:32<00:00, 54\n"
     ]
    }
   ],
   "source": [
    "collection.add(\n",
    "    documents=[\n",
    "        \"This document is about New York\",\n",
    "        \"This document is about Delhi\"\n",
    "    ],\n",
    "    ids=['ids3','ids4'],\n",
    "    metadatas=[\n",
    "        {\"url\": \"https://en.wikipedia.org/wiki/New_York_City\"},\n",
    "        {\"url\": \"https://en.wikipedia.org/wiki/New_Delhi\"}\n",
    "\n",
    "    ]\n",
    ")"
   ]
  },
  {
   "cell_type": "code",
   "execution_count": null,
   "id": "d16ad770-d51e-4e2b-af70-9656fca6aed9",
   "metadata": {},
   "outputs": [],
   "source": [
    "# all_docs = collection.get()\n",
    "all_docs = collection.get(ids=['ids1'])\n",
    "all_docs"
   ]
  },
  {
   "cell_type": "code",
   "execution_count": 8,
   "id": "7dae1681-9010-42e7-8c26-7f8184810dab",
   "metadata": {},
   "outputs": [
    {
     "data": {
      "text/plain": [
       "{'ids': [['ids4', 'ids3']],\n",
       " 'distances': [[1.5176913738250732, 1.6557245254516602]],\n",
       " 'metadatas': [[{'url': 'https://en.wikipedia.org/wiki/New_Delhi'},\n",
       "   {'url': 'https://en.wikipedia.org/wiki/New_York_City'}]],\n",
       " 'embeddings': None,\n",
       " 'documents': [['This document is about Delhi',\n",
       "   'This document is about New York']],\n",
       " 'uris': None,\n",
       " 'data': None,\n",
       " 'included': ['metadatas', 'documents', 'distances']}"
      ]
     },
     "execution_count": 8,
     "metadata": {},
     "output_type": "execute_result"
    }
   ],
   "source": [
    "results = collection.query(\n",
    "    # query_texts = ['Query is about Chhole Bhature'],\n",
    "    # query_texts = ['Query is about Pizza'],\n",
    "    query_texts = ['Query is about air pollution'],\n",
    "\n",
    "    n_results = 2\n",
    ")\n",
    "results"
   ]
  }
 ],
 "metadata": {
  "kernelspec": {
   "display_name": "Python 3 (ipykernel)",
   "language": "python",
   "name": "python3"
  },
  "language_info": {
   "codemirror_mode": {
    "name": "ipython",
    "version": 3
   },
   "file_extension": ".py",
   "mimetype": "text/x-python",
   "name": "python",
   "nbconvert_exporter": "python",
   "pygments_lexer": "ipython3",
   "version": "3.12.4"
  }
 },
 "nbformat": 4,
 "nbformat_minor": 5
}
